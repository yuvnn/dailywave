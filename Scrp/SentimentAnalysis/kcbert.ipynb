{
 "cells": [
  {
   "cell_type": "markdown",
   "metadata": {},
   "source": [
    "### kcbert로 감정분석\n",
    "beomi/kcbert-base"
   ]
  },
  {
   "cell_type": "code",
   "execution_count": 22,
   "metadata": {},
   "outputs": [
    {
     "name": "stderr",
     "output_type": "stream",
     "text": [
      "C:\\Users\\yuvnn\\AppData\\Local\\Packages\\PythonSoftwareFoundation.Python.3.11_qbz5n2kfra8p0\\LocalCache\\local-packages\\Python311\\site-packages\\huggingface_hub\\file_download.py:1150: FutureWarning: `resume_download` is deprecated and will be removed in version 1.0.0. Downloads always resume when possible. If you want to force a new download, use `force_download=True`.\n",
      "  warnings.warn(\n",
      "Some weights of BertForSequenceClassification were not initialized from the model checkpoint at beomi/kcbert-base and are newly initialized: ['classifier.bias', 'classifier.weight']\n",
      "You should probably TRAIN this model on a down-stream task to be able to use it for predictions and inference.\n"
     ]
    }
   ],
   "source": [
    "import pandas as pd\n",
    "from transformers import BertTokenizer, BertForSequenceClassification\n",
    "from torch.utils.data import DataLoader, TensorDataset\n",
    "import torch\n",
    "\n",
    "# Hugging Face에서 kcBERT 모델과 토크나이저를 불러옵니다.\n",
    "model_name = \"beomi/kcbert-base\"\n",
    "tokenizer = BertTokenizer.from_pretrained(model_name)\n",
    "model = BertForSequenceClassification.from_pretrained(model_name, num_labels=3)  # 감정 분류를 위한 3개 라벨 (긍정, 부정, 중립)\n",
    "\n",
    "# CSV 파일 읽기\n",
    "df = pd.read_csv(\"./R&B-Soul.csv\")\n",
    "\n",
    "# b 열에 있는 문장 리스트\n",
    "sentences = df['lyrics'].tolist()\n",
    "\n",
    "# 문장들을 토크나이징\n",
    "tokens = tokenizer(sentences, padding=True, truncation=True, return_tensors='pt')\n",
    "\n",
    "# 모델을 평가 모드로 설정\n",
    "model.eval()\n",
    "\n",
    "# 감정 예측\n",
    "with torch.no_grad():\n",
    "    outputs = model(**tokens)\n",
    "    kcbert_pred = torch.argmax(outputs.logits, dim=-1)\n"
   ]
  },
  {
   "cell_type": "markdown",
   "metadata": {},
   "source": [
    "### kcelectrica로 감정분석\n",
    "beomi/KcELECTRA-base-v2022"
   ]
  },
  {
   "cell_type": "code",
   "execution_count": 23,
   "metadata": {},
   "outputs": [
    {
     "name": "stderr",
     "output_type": "stream",
     "text": [
      "C:\\Users\\yuvnn\\AppData\\Local\\Packages\\PythonSoftwareFoundation.Python.3.11_qbz5n2kfra8p0\\LocalCache\\local-packages\\Python311\\site-packages\\huggingface_hub\\file_download.py:1150: FutureWarning: `resume_download` is deprecated and will be removed in version 1.0.0. Downloads always resume when possible. If you want to force a new download, use `force_download=True`.\n",
      "  warnings.warn(\n",
      "Some weights of ElectraForSequenceClassification were not initialized from the model checkpoint at beomi/KcELECTRA-base-v2022 and are newly initialized: ['classifier.dense.bias', 'classifier.dense.weight', 'classifier.out_proj.bias', 'classifier.out_proj.weight']\n",
      "You should probably TRAIN this model on a down-stream task to be able to use it for predictions and inference.\n"
     ]
    }
   ],
   "source": [
    "import pandas as pd\n",
    "from transformers import AutoTokenizer, AutoModelForSequenceClassification\n",
    "import torch\n",
    "import torch.nn.functional as F\n",
    "\n",
    "# 감정 레이블 (행복, 슬픔, 분노, 당황, 중립)\n",
    "emotion_labels = ['행복', '슬픔', '분노', '당황', '중립']\n",
    "\n",
    "# Hugging Face에서 KcELECTRA 기반 감정 분석 모델과 토크나이저 불러오기\n",
    "model_name = \"beomi/KcELECTRA-base-v2022\"\n",
    "tokenizer = AutoTokenizer.from_pretrained(model_name)\n",
    "model = AutoModelForSequenceClassification.from_pretrained(model_name)\n",
    "\n",
    "# CSV 파일 불러오기\n",
    "df = pd.read_csv(\"./R&B-Soul.csv\")\n",
    "\n",
    "# b 열에 있는 문장 리스트\n",
    "sentences = df['lyrics'].tolist()\n",
    "\n",
    "# 문장들을 토크나이징\n",
    "tokens = tokenizer(sentences, padding=True, truncation=True, return_tensors='pt')\n",
    "\n",
    "# 모델을 평가 모드로 설정\n",
    "model.eval()\n",
    "\n",
    "# 감정 예측\n",
    "with torch.no_grad():\n",
    "    outputs = model(**tokens)\n",
    "    logits = outputs.logits\n",
    "    kcelectrica_probs = F.softmax(logits, dim=-1)  # 소프트맥스를 사용하여 확률 계산\n",
    "    kcelectrica_pred = torch.argmax(logits, dim=-1)  # 가장 높은 확률을 가진 감정을 예측\n",
    "\n",
    "# 예측된 숫자 라벨을 감정 레이블로 변환\n",
    "emo_kcelectrica = [emotion_labels[prediction] for prediction in kcelectrica_pred]\n",
    "\n",
    "# 각 감정에 대한 확률을 퍼센티지로 변환\n",
    "kcelectrica_pct = kcelectrica_probs * 100  # 확률을 퍼센티지로 변환\n",
    "\n",
    "\n"
   ]
  },
  {
   "cell_type": "markdown",
   "metadata": {},
   "source": [
    "### csv에 저장"
   ]
  },
  {
   "cell_type": "code",
   "execution_count": 24,
   "metadata": {},
   "outputs": [
    {
     "name": "stdout",
     "output_type": "stream",
     "text": [
      "감정 분석 및 확률 결과 저장 완료.\n"
     ]
    }
   ],
   "source": [
    "# 예측 결과를 새로운 열에 추가\n",
    "# 예측 결과를 새로운 열에 추가\n",
    "df['kcbert001'] = kcbert_pred.numpy()\n",
    "df['kcelectrica001'] = emo_kcelectrica\n",
    "df['kcelectrica001-confidence'] = [f'{kcelectrica_pct[i][prediction]:.2f}%' for i, prediction in enumerate(kcelectrica_pred)]  # 예측 감정의 확률\n",
    "\n",
    "# 감정 분석 결과가 추가된 CSV 파일을 저장 (덮어쓰기)\n",
    "df.to_csv(\"./R&B-Soul_output.csv\", index=False,encoding='utf-8-sig')\n",
    "\n",
    "print(\"감정 분석 및 확률 결과 저장 완료.\")"
   ]
  },
  {
   "cell_type": "code",
   "execution_count": null,
   "metadata": {},
   "outputs": [],
   "source": []
  }
 ],
 "metadata": {
  "kernelspec": {
   "display_name": "study",
   "language": "python",
   "name": "study"
  },
  "language_info": {
   "codemirror_mode": {
    "name": "ipython",
    "version": 3
   },
   "file_extension": ".py",
   "mimetype": "text/x-python",
   "name": "python",
   "nbconvert_exporter": "python",
   "pygments_lexer": "ipython3",
   "version": "3.11.9"
  }
 },
 "nbformat": 4,
 "nbformat_minor": 2
}
