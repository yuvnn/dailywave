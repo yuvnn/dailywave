{
 "cells": [
  {
   "cell_type": "markdown",
   "metadata": {},
   "source": [
    "## preprocessing"
   ]
  },
  {
   "cell_type": "code",
   "execution_count": 5,
   "metadata": {},
   "outputs": [],
   "source": [
    "import pandas as pd\n",
    "\n",
    "df = pd.read_csv('./origin/감정 분류를 위한 대화 음성 데이터셋/5차년도.csv', encoding='cp949')\n",
    "\n",
    "# #EDC\n",
    "# df['label'] = df['감정_대분류'].map({'기쁨': '0', '당황': '1', '분노': '2', '불안': '3', '상처': '4', '슬픔': '5'})\n",
    "# df['document'] = df['사람문장1']\n",
    "\n",
    "# DVforEC\n",
    "df['label'] = df['1번 감정'].map({'Angry': '0', 'Disgust': '1', 'Fear': '2', 'Happiness': '3', 'Neutral': '4', 'Sadness': '5', 'Surpise':'6'})\n",
    "df['document'] = df['발화문']\n",
    "\n",
    "# a1.csv 파일로 저장\n",
    "df[['label', 'document']].to_csv('./preprocess/DVforEC_pp.csv', index=False, encoding='utf-8-sig')\n"
   ]
  },
  {
   "cell_type": "markdown",
   "metadata": {},
   "source": [
    "### count_item"
   ]
  },
  {
   "cell_type": "code",
   "execution_count": 6,
   "metadata": {},
   "outputs": [
    {
     "name": "stdout",
     "output_type": "stream",
     "text": [
      "label\n",
      "5.0    3998\n",
      "4.0    2498\n",
      "1.0    1212\n",
      "2.0    1114\n",
      "0.0    1012\n",
      "3.0     121\n",
      "Name: count, dtype: int64\n"
     ]
    }
   ],
   "source": [
    "import pandas as pd\n",
    "\n",
    "def count_items(file_name, column_name):\n",
    "    df = pd.read_csv(file_name)\n",
    "    item_counts = df[column_name].value_counts()\n",
    "    return item_counts\n",
    "\n",
    "print(count_items('./preprocess/DVforEC_pp.csv','label'))"
   ]
  },
  {
   "cell_type": "markdown",
   "metadata": {},
   "source": [
    "### count_items_visualization"
   ]
  },
  {
   "cell_type": "code",
   "execution_count": 11,
   "metadata": {},
   "outputs": [
    {
     "data": {
      "image/png": "[encoded data removed]",
      "text/plain": [
       "<Figure size 640x480 with 1 Axes>"
      ]
     },
     "metadata": {},
     "output_type": "display_data"
    },
    {
     "name": "stdout",
     "output_type": "stream",
     "text": [
      "None\n"
     ]
    }
   ],
   "source": [
    "import pandas as pd\n",
    "import matplotlib.pyplot as plt\n",
    "\n",
    "# #EDC\n",
    "# emotion_map = {0: 'joy', 1: 'embarrassed ', 2: 'anger', 3: 'nervous', 4: 'hurt', 5: 'sad'}\n",
    "#DVforEC\n",
    "emotion_map = {0: 'Angry', 1: 'Disgust ', 2: 'Fear', 3: 'Happiness', 4: 'Neutral', 5: 'Sadness', 6: 'Surpise'}\n",
    "\n",
    "def count_items_visualization(file_name, column_name):\n",
    "\n",
    "    counts = count_items(file_name, column_name)\n",
    "    counts.index = counts.index.map(emotion_map)\n",
    "\n",
    "    # 시각화 (막대 그래프)\n",
    "    counts.plot(kind='bar', color='powderblue')\n",
    "    \n",
    "    plt.title('Emotion Counts')\n",
    "    plt.xlabel('Emotion')\n",
    "    plt.ylabel('Count')\n",
    "\n",
    "    plt.show()\n",
    "\n",
    "print(count_items_visualization('./preprocess/DVforEC_pp.csv','label'))\n"
   ]
  },
  {
   "cell_type": "markdown",
   "metadata": {},
   "source": [
    "### onehot encoding"
   ]
  },
  {
   "cell_type": "code",
   "execution_count": 8,
   "metadata": {},
   "outputs": [
    {
     "name": "stdout",
     "output_type": "stream",
     "text": [
      "파일 저장 완료\n"
     ]
    }
   ],
   "source": [
    "import pandas as pd\n",
    "import sys\n",
    "import os\n",
    "sys.path.append(os.path.abspath(\"..\"))\n",
    "\n",
    "from constants import ID2LABEL_KOR, ID2LABEL_EN\n",
    "\n",
    "\n",
    "# CSV 파일 읽기\n",
    "df = pd.read_csv('./preprocess/DVforEC_pp.csv')\n",
    "\n",
    "# 각 레이블에 따라 0 또는 1을 가진 열 추가\n",
    "for label_id, label_name in ID2LABEL_EN.items():\n",
    "    df[label_name] = (df['label'] == label_id).astype(int)\n",
    "\n",
    "df.to_csv('./preprocess/DVforEC_pp.csv', index=False)\n",
    "\n",
    "print(\"파일 저장 완료\")"
   ]
  },
  {
   "cell_type": "markdown",
   "metadata": {},
   "source": [
    "## train, test, val 데이터셋 구성\n",
    "test(테스트), val(검증)"
   ]
  },
  {
   "cell_type": "code",
   "execution_count": 9,
   "metadata": {},
   "outputs": [
    {
     "name": "stdout",
     "output_type": "stream",
     "text": [
      "Train, Validation, and Test datasets have been created and saved.\n"
     ]
    }
   ],
   "source": [
    "import pandas as pd\n",
    "from sklearn.model_selection import train_test_split\n",
    "\n",
    "# 원본 데이터셋 로드\n",
    "data_path = './preprocess/EDC_pp.csv'  # 원본 CSV 파일 경로를 지정하세요.\n",
    "data = pd.read_csv(data_path)\n",
    "\n",
    "# 데이터셋을 train (70%), val (15%), test (15%)로 나누기\n",
    "train_data, temp_data = train_test_split(data, test_size=0.3, random_state=42)  # 70% 훈련용 데이터\n",
    "val_data, test_data = train_test_split(temp_data, test_size=0.5, random_state=42)  # 나머지 30%에서 50%씩 나누기\n",
    "\n",
    "# 데이터셋을 각각의 CSV 파일로 저장\n",
    "train_data.to_csv('./preprocess/DVforEC_train.csv', index=False, encoding='utf-8-sig')\n",
    "val_data.to_csv('./preprocess/DVforEC_val.csv', index=False, encoding='utf-8-sig')\n",
    "test_data.to_csv('./preprocess/DVforEC_test.csv', index=False, encoding='utf-8-sig')\n",
    "\n",
    "print(\"Train, Validation, and Test datasets have been created and saved.\")\n"
   ]
  },
  {
   "cell_type": "markdown",
   "metadata": {},
   "source": []
  }
 ],
 "metadata": {
  "kernelspec": {
   "display_name": "study",
   "language": "python",
   "name": "study"
  },
  "language_info": {
   "codemirror_mode": {
    "name": "ipython",
    "version": 3
   },
   "file_extension": ".py",
   "mimetype": "text/x-python",
   "name": "python",
   "nbconvert_exporter": "python",
   "pygments_lexer": "ipython3",
   "version": "3.11.9"
  }
 },
 "nbformat": 4,
 "nbformat_minor": 2
}
