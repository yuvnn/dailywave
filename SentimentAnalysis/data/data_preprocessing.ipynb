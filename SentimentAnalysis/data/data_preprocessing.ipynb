{
 "cells": [
  {
   "cell_type": "code",
   "execution_count": 7,
   "metadata": {},
   "outputs": [
    {
     "name": "stdout",
     "output_type": "stream",
     "text": [
      "{0: 'Angry', 1: 'Disgust', 2: 'Fear', 3: 'Happiness', 4: 'Sadness', 5: 'Surprise'}\n",
      "{'Angry': 0, 'Disgust': 1, 'Fear': 2, 'Happiness': 3, 'Sadness': 4, 'Surprise': 5}\n",
      "./preprocess/DVforEC(5_6l)_pp.csv\n"
     ]
    }
   ],
   "source": [
    "import pandas as pd\n",
    "import sys\n",
    "import os\n",
    "sys.path.append(os.path.abspath(\"..\"))\n",
    "\n",
    "from constants import ID2LABEL_KOR, ID2LABEL_EN # 1.constants 확인\n",
    "\n",
    "LABEL2ID_EN = {v: k for k, v in ID2LABEL_EN.items()}\n",
    "\n",
    "print(ID2LABEL_EN)\n",
    "print(LABEL2ID_EN)\n",
    "\n",
    "origin_file = './origin/감정 분류를 위한 대화 음성 데이터셋/5차년도.csv' # 2.origin file 확인\n",
    "preprocessed_file_name = 'DVforEC(5_6l)' # 3.preprocessed file 확인\n",
    "\n",
    "\n",
    "pp_file_name = f'./preprocess/{preprocessed_file_name}_pp.csv'\n",
    "train_file_name = f'./preprocess/{preprocessed_file_name}_train.csv'\n",
    "test_file_name = f'./preprocess/{preprocessed_file_name}_test.csv'\n",
    "val_file_name = f'./preprocess/{preprocessed_file_name}_val.csv'\n",
    "\n",
    "print(pp_file_name)"
   ]
  },
  {
   "cell_type": "markdown",
   "metadata": {},
   "source": [
    "## preprocessing"
   ]
  },
  {
   "cell_type": "code",
   "execution_count": 19,
   "metadata": {},
   "outputs": [
    {
     "name": "stdout",
     "output_type": "stream",
     "text": [
      "10011\n",
      "after drop :  7513\n",
      "<class 'str'>\n"
     ]
    }
   ],
   "source": [
    "import pandas as pd\n",
    "\n",
    "df = pd.read_csv(origin_file, encoding='cp949')\n",
    "print(len(df))\n",
    "# #EDC\n",
    "# df['label'] = df['감정_대분류'].map(LABEL2ID_EN)\n",
    "# df['document'] = df['사람문장1']\n",
    "\n",
    "# DVforEC5()\n",
    "df['label'] = df['1번 감정'].map(LABEL2ID_EN)\n",
    "df['document'] = df['발화문']\n",
    "df = df.dropna(subset=['label'])\n",
    "df['label'] = df['label'].astype(str)\n",
    "print('after drop : ', len(df))\n",
    "print(type(df['label'].iloc[0])\n",
    ")\n",
    "# #DVforEC(4_8l)\n",
    "# df['label'] = df['1번 감정'].map(LABEL2ID_EN)\n",
    "# df['document'] = df['발화문']\n",
    "\n",
    "# csv 파일로 저장\n",
    "df[['label', 'document']].to_csv(pp_file_name, index=False, encoding='utf-8-sig')\n"
   ]
  },
  {
   "cell_type": "markdown",
   "metadata": {},
   "source": [
    "### count_item"
   ]
  },
  {
   "cell_type": "code",
   "execution_count": 20,
   "metadata": {},
   "outputs": [
    {
     "name": "stdout",
     "output_type": "stream",
     "text": [
      "total : 7513\n",
      "label\n",
      "4.0    3998\n",
      "1.0    1212\n",
      "2.0    1114\n",
      "0.0    1012\n",
      "3.0     121\n",
      "5.0      56\n",
      "Name: count, dtype: int64\n"
     ]
    }
   ],
   "source": [
    "import pandas as pd\n",
    "\n",
    "def count_items(file_name, column_name):\n",
    "    df = pd.read_csv(file_name)\n",
    "    print('total :', len(df))\n",
    "    item_counts = df[column_name].value_counts()\n",
    "    return item_counts\n",
    "\n",
    "print(count_items(pp_file_name,'label'))"
   ]
  },
  {
   "cell_type": "markdown",
   "metadata": {},
   "source": [
    "### count_items_visualization"
   ]
  },
  {
   "cell_type": "code",
   "execution_count": 4,
   "metadata": {},
   "outputs": [
    {
     "name": "stdout",
     "output_type": "stream",
     "text": [
      "total : 10011\n"
     ]
    },
    {
     "data": {
      "image/png": "[encoded data removed]",
      "text/plain": [
       "<Figure size 640x480 with 1 Axes>"
      ]
     },
     "metadata": {},
     "output_type": "display_data"
    },
    {
     "name": "stdout",
     "output_type": "stream",
     "text": [
      "None\n"
     ]
    }
   ],
   "source": [
    "import pandas as pd\n",
    "import matplotlib.pyplot as plt\n",
    "\n",
    "\n",
    "emotion_map = ID2LABEL_EN\n",
    "\n",
    "def count_items_visualization(file_name, column_name):\n",
    "\n",
    "    counts = count_items(file_name, column_name)\n",
    "    counts.index = counts.index.map(emotion_map)\n",
    "\n",
    "    # 시각화 (막대 그래프)\n",
    "    counts.plot(kind='bar', color='powderblue')\n",
    "    \n",
    "    plt.title('Emotion Counts')\n",
    "    plt.xlabel('Emotion')\n",
    "    plt.ylabel('Count')\n",
    "\n",
    "    plt.show()\n",
    "\n",
    "print(count_items_visualization(pp_file_name,'label'))\n"
   ]
  },
  {
   "cell_type": "markdown",
   "metadata": {},
   "source": [
    "### onehot encoding"
   ]
  },
  {
   "cell_type": "code",
   "execution_count": 5,
   "metadata": {},
   "outputs": [
    {
     "name": "stdout",
     "output_type": "stream",
     "text": [
      "{0: 'Angry', 1: 'Disgust', 2: 'Fear', 3: 'Happiness', 4: 'Sadness', 5: 'Surprise'}\n",
      "complete onehot encoding\n"
     ]
    }
   ],
   "source": [
    "import pandas as pd\n",
    "import sys\n",
    "import os\n",
    "sys.path.append(os.path.abspath(\"..\"))\n",
    "\n",
    "from constants import ID2LABEL_KOR, ID2LABEL_EN\n",
    "\n",
    "# CSV 파일 읽기\n",
    "df = pd.read_csv(pp_file_name)\n",
    "\n",
    "# 각 레이블에 따라 0 또는 1을 가진 열 추가\n",
    "for label_id, label_name in ID2LABEL_EN.items():\n",
    "    df[label_name] = (df['label'] == label_id).astype(int)\n",
    "\n",
    "df.to_csv(pp_file_name, index=False, encoding='utf-8-sig')\n",
    "\n",
    "print(ID2LABEL_EN)\n",
    "print(\"complete onehot encoding\")"
   ]
  },
  {
   "cell_type": "markdown",
   "metadata": {},
   "source": [
    "## train, test, val 데이터셋 구성\n",
    "test(테스트), val(검증)"
   ]
  },
  {
   "cell_type": "code",
   "execution_count": 6,
   "metadata": {},
   "outputs": [
    {
     "name": "stdout",
     "output_type": "stream",
     "text": [
      "Train, Validation, and Test datasets have been created and saved.\n"
     ]
    }
   ],
   "source": [
    "import pandas as pd\n",
    "from sklearn.model_selection import train_test_split\n",
    "\n",
    "# 원본 데이터셋 로드\n",
    "data_path = pp_file_name  # 원본 CSV 파일 경로를 지정하세요.\n",
    "data = pd.read_csv(data_path)\n",
    "\n",
    "# 데이터셋을 train (70%), val (15%), test (15%)로 나누기\n",
    "train_data, temp_data = train_test_split(data, test_size=0.3, random_state=42)  # 70% 훈련용 데이터\n",
    "val_data, test_data = train_test_split(temp_data, test_size=0.5, random_state=42)  # 나머지 30%에서 50%씩 나누기\n",
    "\n",
    "# 데이터셋을 각각의 CSV 파일로 저장\n",
    "train_data.to_csv(train_file_name, index=False, encoding='utf-8-sig')\n",
    "val_data.to_csv(val_file_name, index=False, encoding='utf-8-sig')\n",
    "test_data.to_csv(test_file_name, index=False, encoding='utf-8-sig')\n",
    "\n",
    "print(\"Train, Validation, and Test datasets have been created and saved.\")\n"
   ]
  },
  {
   "cell_type": "markdown",
   "metadata": {},
   "source": []
  }
 ],
 "metadata": {
  "kernelspec": {
   "display_name": "study",
   "language": "python",
   "name": "study"
  },
  "language_info": {
   "codemirror_mode": {
    "name": "ipython",
    "version": 3
   },
   "file_extension": ".py",
   "mimetype": "text/x-python",
   "name": "python",
   "nbconvert_exporter": "python",
   "pygments_lexer": "ipython3",
   "version": "3.11.9"
  }
 },
 "nbformat": 4,
 "nbformat_minor": 2
}
