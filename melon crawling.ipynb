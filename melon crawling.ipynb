{
 "cells": [
  {
   "cell_type": "markdown",
   "metadata": {
    "jp-MarkdownHeadingCollapsed": true
   },
   "source": [
    "## 개별 수집"
   ]
  },
  {
   "cell_type": "markdown",
   "metadata": {
    "jp-MarkdownHeadingCollapsed": true
   },
   "source": [
    "### 가사 방법1"
   ]
  },
  {
   "cell_type": "code",
   "execution_count": 187,
   "metadata": {},
   "outputs": [
    {
     "name": "stdout",
     "output_type": "stream",
     "text": [
      "<class 'bs4.element.ResultSet'>\n",
      "The sun goes up\n",
      "I'm sorry I forgot her name\n",
      "I don't do love\n",
      "어제는 잊기로 해\n",
      "I been living like this\n",
      "Living like this\n",
      "Living like this\n",
      "I been living like this\n",
      "담배빵 On a brand new Bottega bag\n",
      "어제보다 더 취해서 집에 가네\n",
      "Are you\n",
      "Thinking 'bout me\n",
      "(Thinking 'bout me)\n",
      "Thinking 'bout me\n",
      "(Thinking 'bout me)\n",
      "Thinking 'bout me\n",
      "Are you thinking 'bout me\n",
      "But 사실 너가 없어서\n",
      "내가 꿈꿔 왔던 거\n",
      "전부 의미가 없어진 건 아니\n",
      "없어진 건 아니\n",
      "The sun goes up\n",
      "I'm sorry I forgot her name\n",
      "I don't do love\n",
      "어제는 잊기로 해\n",
      "I been living like this\n",
      "Living like this\n",
      "Living like this\n",
      "I been living like this\n",
      "샴페인을 쏟아 니가 준 Cartier 위에\n",
      "The f*** is this girl\n",
      "tapping on my back\n",
      "Are you\n",
      "Thinking 'bout me\n",
      "Thinking 'bout me\n",
      "Thinking 'bout me\n",
      "Are you thinking 'bout me\n",
      "너한텐 My life’s good\n",
      "나는 불평 못해\n",
      "아무거나 갖다\n",
      "네 빈자리를 채우려 하지만\n",
      "말처럼 쉽진 않네\n",
      "Every night every night\n",
      "Ay ay Don Julios gets popped\n",
      "This yungin from the block\n",
      "압구 Zombie walking\n",
      "오늘도 Move in silence\n",
      "내 옆에 쌓이는 많은\n",
      "것들이면 충분해 나는\n",
      "나 며칠 갤러리 안 들어가면 돼\n",
      "It ain't nothing\n",
      "yeah yeah Stay\n",
      "방금 내가 한 말은 실수였어 oh wait\n",
      "니가 저질렀던 실수를\n",
      "전부 머리에서 지우고\n",
      "담배불에 다 태우면 돌아올래\n",
      "Baby girl I'm sorry\n",
      "사람 말은 아직 잘 믿지 못하지\n",
      "기대하지는 마 Please\n",
      "너랑 난 어차피\n",
      "되고 말아 Nothing\n",
      "내 삶이 시시해\n",
      "눈앞에 Vvs 있어도\n",
      "기지개 니가 잘못했잖아\n",
      "받을 테니까 먼저 전화해\n",
      "This song is for you\n",
      "아침에 눈 뜨면 다 꿈이어줘\n",
      "다 봄인데 눈이 오네 내 맘에만\n",
      "쭉 니가 뭘 해도\n",
      "But 사실 너가 없어서\n",
      "내가 꿈꿔 왔던 거\n",
      "전부 의미가 없어진 건 아니\n",
      "없어진 건 아니\n",
      "yeah yeah Stay\n",
      "방금 내가 한 말은 실수였어 oh wait\n",
      "니가 저질렀던 실수를\n",
      "전부 머리에서 지우고\n",
      "담배불에 다 태우면 돌아올래\n",
      "yeah yeah Stay\n",
      "방금 내가 한 말은 실수였어 oh wait\n",
      "니가 저질렀던 실수를\n",
      "전부 머리에서 지우고\n",
      "담배불에 다 태우면 돌아올래\n",
      "내가 아닌 저 사람과\n",
      "새 삶을 만들어가지마\n",
      "내가 아닌 저 사람과\n",
      "새 삶을 만들어가지마\n",
      "내가 아닌 저 사람과\n",
      "새 삶을 만들어가지마\n",
      "내가 아닌 저 사람과\n",
      "새 삶을 만들어가지마\n"
     ]
    }
   ],
   "source": [
    "from bs4 import BeautifulSoup\n",
    "\n",
    "soup = BeautifulSoup(driver.page_source, 'html.parser')\n",
    "soup_lyrics = soup.select('#d_video_summary')\n",
    "str_lyrics = str(soup_lyrics)\n",
    "str_lyrics = str_lyrics.replace('<br/>','\\n')\n",
    "soup1 = BeautifulSoup(str_lyrics, 'html.parser')\n",
    "soup_lyrics = soup1.select('#d_video_summary')\n",
    "soup_lyrics = soup_lyrics[0].get_text(separator=' ', strip=True)\n",
    "print(soup_lyrics)"
   ]
  },
  {
   "cell_type": "markdown",
   "metadata": {
    "jp-MarkdownHeadingCollapsed": true
   },
   "source": [
    "### 가사 방법2"
   ]
  },
  {
   "cell_type": "code",
   "execution_count": 196,
   "metadata": {},
   "outputs": [
    {
     "name": "stdout",
     "output_type": "stream",
     "text": [
      "The sun goes up\n",
      "I'm sorry I forgot her name\n",
      "I don't do love\n",
      "어제는 잊기로 해\n",
      "I been living like this\n",
      "Living like this\n",
      "Living like this\n",
      "I been living like this\n",
      "담배빵 On a brand new Bottega bag\n",
      "어제보다 더 취해서 집에 가네\n",
      "Are you\n",
      "Thinking 'bout me\n",
      "(Thinking 'bout me)\n",
      "Thinking 'bout me\n",
      "(Thinking 'bout me)\n",
      "Thinking 'bout me\n",
      "Are you thinking 'bout me\n",
      "But 사실 너가 없어서\n",
      "내가 꿈꿔 왔던 거\n",
      "전부 의미가 없어진 건 아니\n",
      "없어진 건 아니\n",
      "The sun goes up\n",
      "I'm sorry I forgot her name\n",
      "I don't do love\n",
      "어제는 잊기로 해\n",
      "I been living like this\n",
      "Living like this\n",
      "Living like this\n",
      "I been living like this\n",
      "샴페인을 쏟아 니가 준 Cartier 위에\n",
      "The f*** is this girl\n",
      "tapping on my back\n",
      "Are you\n",
      "Thinking 'bout me\n",
      "Thinking 'bout me\n",
      "Thinking 'bout me\n",
      "Are you thinking 'bout me\n",
      "너한텐 My life’s good\n",
      "나는 불평 못해\n",
      "아무거나 갖다\n",
      "네 빈자리를 채우려 하지만\n",
      "말처럼 쉽진 않네\n",
      "Every night every night\n",
      "Ay ay Don Julios gets popped\n",
      "This yungin from the block\n",
      "압구 Zombie walking\n",
      "오늘도 Move in silence\n",
      "내 옆에 쌓이는 많은\n",
      "것들이면 충분해 나는\n",
      "나 며칠 갤러리 안 들어가면 돼\n",
      "It ain't nothing\n",
      "yeah yeah Stay\n",
      "방금 내가 한 말은 실수였어 oh wait\n",
      "니가 저질렀던 실수를\n",
      "전부 머리에서 지우고\n",
      "담배불에 다 태우면 돌아올래\n",
      "Baby girl I'm sorry\n",
      "사람 말은 아직 잘 믿지 못하지\n",
      "기대하지는 마 Please\n",
      "너랑 난 어차피\n",
      "되고 말아 Nothing\n",
      "내 삶이 시시해\n",
      "눈앞에 Vvs 있어도\n",
      "기지개 니가 잘못했잖아\n",
      "받을 테니까 먼저 전화해\n",
      "This song is for you\n",
      "아침에 눈 뜨면 다 꿈이어줘\n",
      "다 봄인데 눈이 오네 내 맘에만\n",
      "쭉 니가 뭘 해도\n",
      "But 사실 너가 없어서\n",
      "내가 꿈꿔 왔던 거\n",
      "전부 의미가 없어진 건 아니\n",
      "없어진 건 아니\n",
      "yeah yeah Stay\n",
      "방금 내가 한 말은 실수였어 oh wait\n",
      "니가 저질렀던 실수를\n",
      "전부 머리에서 지우고\n",
      "담배불에 다 태우면 돌아올래\n",
      "yeah yeah Stay\n",
      "방금 내가 한 말은 실수였어 oh wait\n",
      "니가 저질렀던 실수를\n",
      "전부 머리에서 지우고\n",
      "담배불에 다 태우면 돌아올래\n",
      "내가 아닌 저 사람과\n",
      "새 삶을 만들어가지마\n",
      "내가 아닌 저 사람과\n",
      "새 삶을 만들어가지마\n",
      "내가 아닌 저 사람과\n",
      "새 삶을 만들어가지마\n",
      "내가 아닌 저 사람과\n",
      "새 삶을 만들어가지마\n"
     ]
    }
   ],
   "source": [
    "from bs4 import BeautifulSoup\n",
    "\n",
    "soup = BeautifulSoup(driver.page_source, 'html.parser')\n",
    "soup_lyrics = soup.select('#d_video_summary')\n",
    "\n",
    "soup_lyrics = soup_lyrics[0].get_text(separator='\\n', strip=True)\n",
    "print(soup_lyrics)"
   ]
  },
  {
   "cell_type": "markdown",
   "metadata": {
    "jp-MarkdownHeadingCollapsed": true
   },
   "source": [
    "### 아티스트 이름"
   ]
  },
  {
   "cell_type": "code",
   "execution_count": 204,
   "metadata": {},
   "outputs": [
    {
     "name": "stdout",
     "output_type": "stream",
     "text": [
      "sokodomo\n"
     ]
    }
   ],
   "source": [
    "from bs4 import BeautifulSoup\n",
    "soup = BeautifulSoup(driver.page_source, 'html.parser')\n",
    "soup_artistname = soup.select('.artist_name')\n",
    "print(soup_artistname[0]['title'].strip())\n",
    "\n",
    "#downloadfrm > div > div > div.entry > div.info > div.artist > a > span:nth-child(1)"
   ]
  },
  {
   "cell_type": "markdown",
   "metadata": {
    "jp-MarkdownHeadingCollapsed": true
   },
   "source": [
    "### song id"
   ]
  },
  {
   "cell_type": "code",
   "execution_count": 211,
   "metadata": {},
   "outputs": [
    {
     "data": {
      "text/plain": [
       "'37657039'"
      ]
     },
     "execution_count": 211,
     "metadata": {},
     "output_type": "execute_result"
    }
   ],
   "source": [
    "current_url = driver.current_url\n",
    "song_id = current_url.split('=')[-1]\n",
    "song_id"
   ]
  },
  {
   "cell_type": "markdown",
   "metadata": {
    "jp-MarkdownHeadingCollapsed": true
   },
   "source": [
    "### 노래 제목 및 순위 (1~50위)"
   ]
  },
  {
   "cell_type": "code",
   "execution_count": 4,
   "metadata": {},
   "outputs": [
    {
     "name": "stdout",
     "output_type": "stream",
     "text": [
      "1 Small girl (feat. 도경수(D.O.))\n",
      "2 SPOT! (feat. JENNIE)\n",
      "3 EASY\n",
      "4 봄날\n",
      "5 우리 영화\n",
      "6 홀씨\n",
      "7 버추얼 아이돌\n",
      "8 Summer (Feat. BE’O (비오))\n",
      "9 어땠을까 (Feat. 박정현)\n",
      "10 한여름밤의 꿀\n",
      "11 Smoke (Prod. Dynamicduo, Padi)\n",
      "12 Trip (Feat. Hannah)\n",
      "13 우산 (Feat. 윤하)\n",
      "14 Smeraldo Garden Marching Band (feat. 로꼬)\n",
      "15 Rainy day (Feat. ASH ISLAND, Skinny Brown)\n",
      "16 뜨거운 안녕 (Feat. 성시경)\n",
      "17 시차 (We Are) (Feat. 로꼬 & GRAY)\n",
      "18 OHAYO MY NIGHT\n",
      "19 NOT SORRY (Feat. pH-1) (Prod. by Slom)\n",
      "20 자니 (Feat. Dynamic Duo)\n",
      "21 거리에서 (Feat. ASH ISLAND)\n",
      "22 LOVE me\n",
      "23 Pink Venom\n",
      "24 Shut Down\n",
      "25 Y (Please Tell Me Why)\n",
      "26 하루 하루\n",
      "27 내 기쁨은 너가 벤틀리를 끄는 거야\n",
      "28 거짓말\n",
      "29 죽일 놈 (Guilty)\n",
      "30 예술이야\n",
      "31 우연히 봄\n",
      "32 Officially Missing You\n",
      "33 죽을 만큼 아파서 (Feat. 멜로우)\n",
      "34 METEOR\n",
      "35 어떻게 지내 (Prod. By VAN.C)\n",
      "36 비 오는 날 듣기 좋은 노래 (Feat. Colde)\n",
      "37 사이렌 Remix (Feat. UNEDUCATED KID, Paul Blanco)\n",
      "38 헤어지지 못하는 여자, 떠나가지 못하는 남자 (Feat. 정인)\n",
      "39 새삥 (Prod. ZICO) (Feat. 호미들)\n",
      "40 붉은 노을\n",
      "41 삐딱하게 (Crooked)\n",
      "42 회전목마 (Feat. Zion.T, 원슈타인) (Prod. Slom)\n",
      "43 Ballerino\n",
      "44 문득\n",
      "45 너에게 쓰는 편지 (Feat. 린)\n",
      "46 GONE (Feat. Paloalto) (Prod. TOIL)\n",
      "47 And July (Feat. DEAN, DJ Friz)\n",
      "48 아무노래\n",
      "49 존재만으로\n",
      "50 ? (물음표) (Feat. 최자 Of 다이나믹듀오, Zion.T)\n"
     ]
    }
   ],
   "source": [
    "from selenium import webdriver\n",
    "from selenium.webdriver.common.by import By\n",
    "\n",
    "# Find the song name elements using the CSS selector\n",
    "songname = driver.find_elements(By.CSS_SELECTOR, '#lst50 > td:nth-child(6) > div > div > div.ellipsis.rank01 > span > a')\n",
    "\n",
    "# Loop through the elements and print the rank and song name\n",
    "for p, i in zip(songname, range(len(songname))):\n",
    "    print(i+1, p.text)\n"
   ]
  },
  {
   "cell_type": "markdown",
   "metadata": {},
   "source": [
    "## 반복적 수집"
   ]
  },
  {
   "cell_type": "code",
   "execution_count": 8,
   "metadata": {},
   "outputs": [
    {
     "name": "stdout",
     "output_type": "stream",
     "text": [
      "          id               title              artist  \\\n",
      "0   37373808              SHEESH         BABYMONSTER   \n",
      "1   37194943                 밤양갱           비비 (BIBI)   \n",
      "2   37003911               To. X        태연 (TAEYEON)   \n",
      "3   37659315               내가 그댈                 하동균   \n",
      "4   37225606               Smart  LE SSERAFIM (르세라핌)   \n",
      "..       ...                 ...                 ...   \n",
      "95  37611660         Every Night         Paul Blanco   \n",
      "96   2604975                 미워요                  정인   \n",
      "97  34587210          2 O' CLOCK                dori   \n",
      "98  36743809               그런 일은         Paul Blanco   \n",
      "99   5771304  Oasis (Feat. ZICO)               Crush   \n",
      "\n",
      "                                               lyrics  \n",
      "0   Da la lun dun\\nDa la lun dun\\nDa la lun dun\\nB...  \n",
      "1   떠나는 길에 니가 내게 말했지\\n‘너는 바라는 게 너무나 많아\\n잠깐이라도 널 안 ...  \n",
      "2   처음 본 널 기억해\\nWe skipped the small talk\\n바로 다음 단...  \n",
      "3   Every time and every day\\n다신 찾지 않아요\\n난 알고 있었죠\\...  \n",
      "4   I’m a smarter baby, smarter\\nSmarter baby, sma...  \n",
      "..                                                ...  \n",
      "95  (Cuz I)\\nWanna come home to you every single n...  \n",
      "96  날 다시 보고도 그댄 아무렇지 않네요\\n참 편하겠어요 그리 어른스런\\n사람이어서 웃...  \n",
      "97  둘이서 너와\\n서로 눈치 봐 또\\n시간은 멈출 줄을 몰라\\n너와 같이 나\\n서로 맞...  \n",
      "98  너무나 멀어 보여요\\n이렇게 가까이 있는데도\\n언제나 나를 안아주던 따스한\\n인사도...  \n",
      "99  난 널\\nyou\\n목말라해 너무 더워\\n물이 필요해 Hot in here\\n난 웅덩...  \n",
      "\n",
      "[100 rows x 4 columns]\n"
     ]
    }
   ],
   "source": [
    "from bs4 import BeautifulSoup\n",
    "from selenium import webdriver\n",
    "from selenium.webdriver.common.by import By\n",
    "from selenium.webdriver.chrome.service import Service\n",
    "from selenium.webdriver.support.ui import WebDriverWait\n",
    "from selenium.webdriver.support import expected_conditions as EC\n",
    "import pandas as pd\n",
    "\n",
    "options = webdriver.ChromeOptions()\n",
    "service = Service('chromedriver.exe')\n",
    "driver = webdriver.Chrome(service=service, options=options)\n",
    "\n",
    "url = \"https://www.melon.com/chart/month/index.htm?classCd=GN0400\"\n",
    "# GN0300 -> rap-hip hop\n",
    "# GN0400 -> R&B-Soul\n",
    "driver.get(url)\n",
    "\n",
    "data = {'id':[], 'title':[], 'artist':[], 'lyrics':[]}\n",
    "\n",
    "def collect(songinfo_icon):\n",
    "    for p in songinfo_icon:\n",
    "        p.click()\n",
    "        \n",
    "        try:\n",
    "            # 특정 요소가 나타날 때까지 기다림 (최대 10초)\n",
    "            WebDriverWait(driver, 10).until(\n",
    "                EC.presence_of_element_located((By.CSS_SELECTOR, '.song_name'))\n",
    "            )\n",
    "            \n",
    "            soup = BeautifulSoup(driver.page_source, 'html.parser')\n",
    "            soup_songname = soup.select('.song_name')\n",
    "            soup_artistname = soup.select('.artist_name')\n",
    "            soup_lyrics = soup.select('#d_video_summary')\n",
    "            current_url = driver.current_url\n",
    "            song_id = current_url.split('=')[-1]\n",
    "            \n",
    "            if soup_artistname:\n",
    "                title = soup_songname[0].get_text(separator=' ', strip=True).split(' ', 1)[1].strip()\n",
    "                artist = soup_artistname[0]['title']\n",
    "                lyrics = soup_lyrics[0].get_text(separator='\\n', strip=True)\n",
    "                \n",
    "                data['id'].append(song_id.strip())\n",
    "                data['title'].append(title.strip())\n",
    "                data['artist'].append(artist.strip())\n",
    "                data['lyrics'].append(lyrics.strip())\n",
    "    \n",
    "            else:\n",
    "                print(\"Element not found\")\n",
    "                break\n",
    "        \n",
    "        except Exception as e:\n",
    "            print(f\"An error occurred: {e}\")\n",
    "        \n",
    "        driver.implicitly_wait(5)\n",
    "        driver.back()\n",
    "        \n",
    "        # 이전 페이지가 완전히 로드되도록 기다림\n",
    "        WebDriverWait(driver, 10).until(\n",
    "            EC.presence_of_element_located((By.CSS_SELECTOR, '#lst50 > td:nth-child(5) > div > a'))\n",
    "        )\n",
    "\n",
    "#1~50위\n",
    "songinfo_icon = driver.find_elements(By.CSS_SELECTOR, '#lst50 > td:nth-child(5) > div > a')\n",
    "collect(songinfo_icon)\n",
    "\n",
    "#51~100위\n",
    "songinfo_icon = driver.find_elements(By.CSS_SELECTOR, '#lst100 > td:nth-child(5) > div > a')\n",
    "collect(songinfo_icon)\n",
    "\n",
    "df = pd.DataFrame(data)\n",
    "print(df)\n",
    "\n",
    "df.to_csv('R&B-Soul.csv', index=False, encoding='utf-8-sig')\n",
    "\n",
    "driver.quit()\n"
   ]
  },
  {
   "cell_type": "code",
   "execution_count": null,
   "metadata": {},
   "outputs": [],
   "source": [
    "import os\n",
    "import pandas as pd\n",
    "from pymongo import MongoClient\n",
    "\n",
    "# MongoDB 연결 설정\n",
    "client = MongoClient('mongodb://localhost:27017/')\n",
    "\n",
    "def csv_to_mongo(csv_file_path, db_name, collection_name):\n",
    "    # 데이터베이스 및 컬렉션 선택\n",
    "    db = client[db_name]\n",
    "    collection = db[collection_name]\n",
    "    \n",
    "    # CSV 파일 읽기\n",
    "    df = pd.read_csv(csv_file_path)\n",
    "    \n",
    "    # DataFrame의 각 행을 딕셔너리로 변환 후 삽입\n",
    "    collection.insert_many(df.to_dict('records'))\n",
    "    print(f\"CSV 파일 '{csv_file_path}'가 데이터베이스 '{db_name}'의 컬렉션 '{collection_name}'에 업로드되었습니다.\")\n",
    "\n",
    "# 사용 예시\n",
    "csv_file_path = 'path/to/your/file.csv'  # 실제 CSV 파일 경로로 변경\n",
    "db_name = 'dailywave'\n",
    "collection_name = 'musiclist'\n",
    "csv_to_mongo(csv_file_path, db_name, collection_name)\n"
   ]
  }
 ],
 "metadata": {
  "colab": {
   "provenance": []
  },
  "kernelspec": {
   "display_name": "study",
   "language": "python",
   "name": "study"
  },
  "language_info": {
   "codemirror_mode": {
    "name": "ipython",
    "version": 3
   },
   "file_extension": ".py",
   "mimetype": "text/x-python",
   "name": "python",
   "nbconvert_exporter": "python",
   "pygments_lexer": "ipython3",
   "version": "3.11.9"
  }
 },
 "nbformat": 4,
 "nbformat_minor": 4
}
