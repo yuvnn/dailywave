{
 "cells": [
  {
   "cell_type": "markdown",
   "metadata": {},
   "source": [
    "## preprocessing"
   ]
  },
  {
   "cell_type": "code",
   "execution_count": 3,
   "metadata": {},
   "outputs": [],
   "source": [
    "import pandas as pd\n",
    "\n",
    "df = pd.read_csv('./origin/감성대화말뭉치_최종데이터__Validation.csv')\n",
    "\n",
    "df['labels'] = df['감정_대분류'].map({'기쁨': '0', '당황': '1', '분노': '2', '불안': '3', '상처': '4', '슬픔': '5'})\n",
    "\n",
    "# 'e'열을 그대로 가져오기\n",
    "df['sentence'] = df['사람문장1']\n",
    "\n",
    "# a1.csv 파일로 저장\n",
    "df[['labels', 'sentence']].to_csv('./preprocess/감성대화말뭉치_pp.csv', index=False, encoding='utf-8-sig')\n"
   ]
  },
  {
   "cell_type": "markdown",
   "metadata": {},
   "source": [
    "### count_item"
   ]
  },
  {
   "cell_type": "code",
   "execution_count": 10,
   "metadata": {},
   "outputs": [
    {
     "name": "stdout",
     "output_type": "stream",
     "text": [
      "labeling\n",
      "2    1257\n",
      "0    1213\n",
      "3    1113\n",
      "1    1048\n",
      "4    1007\n",
      "5    1003\n",
      "Name: count, dtype: int64\n"
     ]
    }
   ],
   "source": [
    "import pandas as pd\n",
    "\n",
    "def count_items(file_name, column_name):\n",
    "    df = pd.read_csv(file_name)\n",
    "    item_counts = df[column_name].value_counts()\n",
    "    return item_counts\n",
    "\n",
    "print(count_items('./preprocess/감성대화말뭉치_pp.csv','labeling'))"
   ]
  },
  {
   "cell_type": "markdown",
   "metadata": {},
   "source": [
    "### count_items_visualization"
   ]
  },
  {
   "cell_type": "code",
   "execution_count": 41,
   "metadata": {},
   "outputs": [
    {
     "data": {
      "image/png": "[encoded data removed]",
      "text/plain": [
       "<Figure size 640x480 with 1 Axes>"
      ]
     },
     "metadata": {},
     "output_type": "display_data"
    },
    {
     "name": "stdout",
     "output_type": "stream",
     "text": [
      "None\n"
     ]
    }
   ],
   "source": [
    "import pandas as pd\n",
    "import matplotlib.pyplot as plt\n",
    "\n",
    "\n",
    "emotion_map = {0: 'joy', 1: 'embarrassed ', 2: 'anger', 3: 'nervous', 4: 'hurt', 5: 'sad'}\n",
    "\n",
    "def count_items_visualization(file_name, column_name):\n",
    "\n",
    "    counts = count_items(file_name, column_name)\n",
    "    counts.index = counts.index.map(emotion_map)\n",
    "\n",
    "    # 시각화 (막대 그래프)\n",
    "    counts.plot(kind='bar', color='powderblue')\n",
    "    \n",
    "    plt.title('Emotion Counts')\n",
    "    plt.xlabel('Emotion')\n",
    "    plt.ylabel('Count')\n",
    "\n",
    "    plt.show()\n",
    "\n",
    "print(count_items_visualization('./preprocess/감성대화말뭉치_pp.csv','labeling'))\n"
   ]
  },
  {
   "cell_type": "markdown",
   "metadata": {},
   "source": [
    "## train, test, val 데이터셋 구성\n",
    "test(테스트), val(검증)"
   ]
  },
  {
   "cell_type": "code",
   "execution_count": 4,
   "metadata": {},
   "outputs": [
    {
     "name": "stdout",
     "output_type": "stream",
     "text": [
      "Train, Validation, and Test datasets have been created and saved.\n"
     ]
    }
   ],
   "source": [
    "import pandas as pd\n",
    "from sklearn.model_selection import train_test_split\n",
    "\n",
    "# 원본 데이터셋 로드\n",
    "data_path = './preprocess/감성대화말뭉치_pp.csv'  # 원본 CSV 파일 경로를 지정하세요.\n",
    "data = pd.read_csv(data_path)\n",
    "\n",
    "# 데이터셋을 train (70%), val (15%), test (15%)로 나누기\n",
    "train_data, temp_data = train_test_split(data, test_size=0.3, random_state=42)  # 70% 훈련용 데이터\n",
    "val_data, test_data = train_test_split(temp_data, test_size=0.5, random_state=42)  # 나머지 30%에서 50%씩 나누기\n",
    "\n",
    "# 데이터셋을 각각의 CSV 파일로 저장\n",
    "train_data.to_csv('./preprocess/감성대화말뭉치_train.csv', index=False, encoding='utf-8-sig')\n",
    "val_data.to_csv('./preprocess/감성대화말뭉치_val.csv', index=False, encoding='utf-8-sig')\n",
    "test_data.to_csv('./preprocess/감성대화말뭉치_test.csv', index=False, encoding='utf-8-sig')\n",
    "\n",
    "print(\"Train, Validation, and Test datasets have been created and saved.\")\n"
   ]
  },
  {
   "cell_type": "markdown",
   "metadata": {},
   "source": [
    "commit test"
   ]
  },
  {
   "cell_type": "markdown",
   "metadata": {},
   "source": [
    "commit test2"
   ]
  },
  {
   "cell_type": "markdown",
   "metadata": {},
   "source": []
  }
 ],
 "metadata": {
  "kernelspec": {
   "display_name": "study",
   "language": "python",
   "name": "study"
  },
  "language_info": {
   "codemirror_mode": {
    "name": "ipython",
    "version": 3
   },
   "file_extension": ".py",
   "mimetype": "text/x-python",
   "name": "python",
   "nbconvert_exporter": "python",
   "pygments_lexer": "ipython3",
   "version": "3.11.9"
  }
 },
 "nbformat": 4,
 "nbformat_minor": 2
}
